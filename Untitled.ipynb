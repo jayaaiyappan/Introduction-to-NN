{
 "cells": [
  {
   "cell_type": "markdown",
   "metadata": {},
   "source": [
    "Ref: https://stackabuse.com/tensorflow-neural-network-tutorial/\n",
    "\n",
    "\n",
    "TensorFlow is an open-source library for machine learning applications. It's the Google Brain's second generation system, after replacing the close-sourced DistBelief, and is used by Google for both research and production applications. TensorFlow applications can be written in a few languages: Python, Go, Java and C. This post is concerned about its Python version, and looks at the library's installation, basic low-level components, and building a feed-forward neural network from scratch to perform learning on a real dataset.\n",
    "\n",
    "The training duration of deep learning neural networks is often a bottleneck in more complex scenarios. Since neural networks, but also other ML algorithms, mostly work with matrix multiplications, it is much quicker to run them on Graphical Processing Units (GPUs), rather than on standard Central Processing Units (CPUs).\n",
    "\n",
    "TensorFlow supports both CPUs and GPUs, and Google has even produced its own specialized hardware for computing in the cloud, called Tensor Processing Unit (TPU), which produces the best performance among the different processing units.\n",
    "\n",
    "Installation:\n",
    "Anaconda is a Python distribution containing a large set of libraries for scientific computing, including TensorFlow.\n",
    "conda install tensorflow"
   ]
  },
  {
   "cell_type": "code",
   "execution_count": 2,
   "metadata": {},
   "outputs": [
    {
     "name": "stderr",
     "output_type": "stream",
     "text": [
      "C:\\Users\\user\\Anaconda3\\lib\\site-packages\\h5py\\__init__.py:34: FutureWarning: Conversion of the second argument of issubdtype from `float` to `np.floating` is deprecated. In future, it will be treated as `np.float64 == np.dtype(float).type`.\n",
      "  from ._conv import register_converters as _register_converters\n"
     ]
    }
   ],
   "source": [
    "import tensorflow as tf"
   ]
  },
  {
   "cell_type": "code",
   "execution_count": 3,
   "metadata": {},
   "outputs": [
    {
     "name": "stdout",
     "output_type": "stream",
     "text": [
      "1.12.0\n"
     ]
    }
   ],
   "source": [
    "print(tf.__version__)"
   ]
  },
  {
   "cell_type": "markdown",
   "metadata": {},
   "source": [
    "There are various APIs available to program TensorFlow. The lowest level one is known as Core and works with the basic components: Tensors, Graphs and Sessions.\n",
    "\n",
    "Higher level APIs, such as tf.estimator, are built to simplify the workflow and automate processes like dataset management, learning, evaluation, etc. Anyway, knowing the Core features of the library is vital in building state of the art learning applications.\n",
    "\n",
    "The whole point of the Core API is to build a computational graph which contains a series of operations arranged into a graph of nodes. Each node may have multiple tensors (the basic data structure) as inputs and performs operations on them in order to calculate an output, which afterwards may represent an input to other nodes in a multi-layered network. This type of architecture is suitable for machine learning applications, such as neural networks. "
   ]
  },
  {
   "cell_type": "markdown",
   "metadata": {},
   "source": [
    "Tensors\n",
    "\n",
    "Tensors are the basic data structure in TensorFlow which store data in any number of dimensions, similar to multi dimensional arrays in NumPy. There are three basic types of tensors: constants, variables, and placeholders.\n",
    "\n",
    "    1. Constants are immutable type of tensors. They could be seen as nodes without inputs, outputting a single value they store internally.\n",
    "    2. Variables are mutable type of tenosrs whose value can change during a run of a graph. In ML applications, the variables usually store the parameters which need to be optimized (eg. the weights between nodes in a neural network). Variables need to be initialized before running the graph by explicitly calling a special operation.\n",
    "    3. Placeholders are tensors which store data from external sources. They represent a \"promise\" that a value will be provided when the graph is run. In ML applications, placeholders are usually used for inputing data to the learning model.\n",
    "\n",
    "The following few lines give an example of the three tensor types:"
   ]
  },
  {
   "cell_type": "code",
   "execution_count": 4,
   "metadata": {},
   "outputs": [
    {
     "name": "stdout",
     "output_type": "stream",
     "text": [
      "a: Tensor(\"pholdA:0\", dtype=float32)\n",
      "b: <tf.Variable 'varB:0' shape=() dtype=float32_ref>\n",
      "c: Tensor(\"consC:0\", shape=(4,), dtype=float32)\n"
     ]
    }
   ],
   "source": [
    "tf.reset_default_graph()\n",
    "\n",
    "# Define a placeholder\n",
    "a = tf.placeholder(\"float\", name='pholdA')  \n",
    "print(\"a:\", a)\n",
    "\n",
    "# Define a variable \n",
    "b = tf.Variable(2.0, name='varB')  \n",
    "print(\"b:\", b)\n",
    "\n",
    "# Define a constant\n",
    "c = tf.constant([1., 2., 3., 4.], name='consC')  \n",
    "print(\"c:\", c)"
   ]
  },
  {
   "cell_type": "markdown",
   "metadata": {},
   "source": [
    "Note that tensors do not contain a value at this point, and their values could only be available when the graph is run in a Session."
   ]
  },
  {
   "cell_type": "markdown",
   "metadata": {},
   "source": [
    "At this point the graph only holds tree tensors which aren't connected. Let's run some operations on our tensors"
   ]
  },
  {
   "cell_type": "code",
   "execution_count": 5,
   "metadata": {},
   "outputs": [
    {
     "data": {
      "text/plain": [
       "<tf.Tensor 'add:0' shape=<unknown> dtype=float32>"
      ]
     },
     "execution_count": 5,
     "metadata": {},
     "output_type": "execute_result"
    }
   ],
   "source": [
    "d=a*b+c\n",
    "d"
   ]
  },
  {
   "cell_type": "markdown",
   "metadata": {},
   "source": [
    "The resulting output is again a tensor named 'add', "
   ]
  },
  {
   "cell_type": "code",
   "execution_count": 6,
   "metadata": {},
   "outputs": [
    {
     "name": "stdout",
     "output_type": "stream",
     "text": [
      "pholdA\n",
      "varB/initial_value\n",
      "varB\n",
      "varB/Assign\n",
      "varB/read\n",
      "consC\n",
      "mul\n",
      "add\n"
     ]
    }
   ],
   "source": [
    "# call the default graph\n",
    "graph = tf.get_default_graph()\n",
    "\n",
    "# print operations in the graph\n",
    "for op in graph.get_operations():  \n",
    "    print(op.name)"
   ]
  },
  {
   "cell_type": "markdown",
   "metadata": {},
   "source": [
    "Sessions:\n",
    "Finally, our graph should be run inside a session. Note that variables are initialized beforehand, while the placeholder tensor receives concrete values through the feed_dict attribute."
   ]
  },
  {
   "cell_type": "code",
   "execution_count": 7,
   "metadata": {},
   "outputs": [
    {
     "name": "stdout",
     "output_type": "stream",
     "text": [
      "[[ 2.  3.  4.  5.]\n",
      " [ 5.  6.  7.  8.]\n",
      " [ 7.  8.  9. 10.]]\n"
     ]
    }
   ],
   "source": [
    "# Initialize variables\n",
    "init = tf.global_variables_initializer()\n",
    "\n",
    "# Run a session and calculate d\n",
    "sess = tf.Session()  \n",
    "sess.run(init)  \n",
    "print(sess.run(d, feed_dict={a: [[0.5], [2], [3]]}))  \n",
    "sess.close()  "
   ]
  },
  {
   "cell_type": "markdown",
   "metadata": {},
   "source": [
    "In the following section we'll use the Core API to build a neural network for machine learning on real data."
   ]
  },
  {
   "cell_type": "markdown",
   "metadata": {},
   "source": [
    "A neural network model\n",
    "In this part we build a feed-forward neural network from scratch using the Core components of TensorFlow. We compare three architectures of a neural network, which will vary on the number of nodes in a single hidden layer."
   ]
  },
  {
   "cell_type": "markdown",
   "metadata": {},
   "source": [
    "Iris dataset\n",
    "We use the simple Iris dataset, which consists of 150 examples of plants, each given with their 4 dimensions (used as input features) and its type (the output value that needs to be predicted). A plant can belong to one of three possible types (setosa, virginica and versicolor). Let's first download the data from TensorFlow's website - it comes split to training and test subsets with 120 and 30 examples each."
   ]
  },
  {
   "cell_type": "code",
   "execution_count": 11,
   "metadata": {
    "collapsed": true
   },
   "outputs": [],
   "source": [
    "# Import the needed libraries\n",
    "import numpy as np  \n",
    "import pandas as pd  \n",
    "import tensorflow as tf  \n",
    "import urllib.request as request  \n",
    "import matplotlib.pyplot as plt\n",
    "%matplotlib inline\n",
    "\n",
    "# Download dataset\n",
    "IRIS_TRAIN_URL = \"http://download.tensorflow.org/data/iris_training.csv\"  \n",
    "IRIS_TEST_URL = \"http://download.tensorflow.org/data/iris_test.csv\"\n",
    "\n",
    "names = ['sepal-length', 'sepal-width', 'petal-length', 'petal-width', 'species']  \n",
    "train = pd.read_csv(IRIS_TRAIN_URL, names=names, skiprows=1)  \n",
    "test = pd.read_csv(IRIS_TEST_URL, names=names, skiprows=1)\n",
    "\n",
    "# Train and test input data\n",
    "Xtrain = train.drop(\"species\", axis=1)  \n",
    "Xtest = test.drop(\"species\", axis=1)\n",
    "\n",
    "# Encode target values into binary ('one-hot' style) representation\n",
    "ytrain = pd.get_dummies(train.species)  \n",
    "ytest = pd.get_dummies(test.species)  "
   ]
  },
  {
   "cell_type": "markdown",
   "metadata": {},
   "source": [
    "Model and Learning:  \n",
    "The shape of the input and output layers of our neural network will correspond to the shape of data, i.e. the input layer will contain four neurons representing the four input features, while the output layer will contain three neurons due to the three bits used to encode a plant species in a one-hot style. For example the 'setosa' species could be encoded with a vector [1, 0, 0], the 'virginica' with [0, 1, 0], etc.\n",
    "\n",
    "We select three values for the number of neurons in the hidden layer: 5, 10 and 20, resulting in network sizes of (4-5-3), (4-10-3) and (4-20-3). This means our first network, for example, will have 4 input neurons, 5 \"hidden\" neurons, and 3 output neurons."
   ]
  },
  {
   "cell_type": "markdown",
   "metadata": {},
   "source": [
    "The code below defines a function in which we create the model, define a loss function that needs to be minimized, and run a session with 2000 iterations to learn the optimal weights W_1 and W_2. As mentioned earlier, the input and output matrices are fed to tf.placeholder tensors and the weights are represented as variables because their values change in each iteration. The loss function is defined as the mean squared error between our prediction y_est and the actual species type y, and the activation function we use is sigmoid. The create_train_model function returns the learned weights and prints out the final value of the loss function."
   ]
  },
  {
   "cell_type": "code",
   "execution_count": 12,
   "metadata": {
    "collapsed": true
   },
   "outputs": [],
   "source": [
    "# Create and train a tensorflow model of a neural network\n",
    "def create_train_model(hidden_nodes, num_iters):\n",
    "\n",
    "    # Reset the graph\n",
    "    tf.reset_default_graph()\n",
    "\n",
    "    # Placeholders for input and output data\n",
    "    X = tf.placeholder(shape=(120, 4), dtype=tf.float64, name='X')\n",
    "    y = tf.placeholder(shape=(120, 3), dtype=tf.float64, name='y')\n",
    "\n",
    "    # Variables for two group of weights between the three layers of the network\n",
    "    W1 = tf.Variable(np.random.rand(4, hidden_nodes), dtype=tf.float64)\n",
    "    W2 = tf.Variable(np.random.rand(hidden_nodes, 3), dtype=tf.float64)\n",
    "\n",
    "    # Create the neural net graph\n",
    "    A1 = tf.sigmoid(tf.matmul(X, W1))\n",
    "    y_est = tf.sigmoid(tf.matmul(A1, W2))\n",
    "\n",
    "    # Define a loss function\n",
    "    deltas = tf.square(y_est - y)\n",
    "    loss = tf.reduce_sum(deltas)\n",
    "\n",
    "    # Define a train operation to minimize the loss\n",
    "    optimizer = tf.train.GradientDescentOptimizer(0.005)\n",
    "    train = optimizer.minimize(loss)\n",
    "\n",
    "    # Initialize variables and run session\n",
    "    init = tf.global_variables_initializer()\n",
    "    sess = tf.Session()\n",
    "    sess.run(init)\n",
    "\n",
    "    # Go through num_iters iterations\n",
    "    for i in range(num_iters):\n",
    "        sess.run(train, feed_dict={X: Xtrain, y: ytrain})\n",
    "        loss_plot[hidden_nodes].append(sess.run(loss, feed_dict={X: Xtrain.as_matrix(), y: ytrain.as_matrix()}))\n",
    "        weights1 = sess.run(W1)\n",
    "        weights2 = sess.run(W2)\n",
    "\n",
    "    print(\"loss (hidden nodes: %d, iterations: %d): %.2f\" % (hidden_nodes, num_iters, loss_plot[hidden_nodes][-1]))\n",
    "    sess.close()\n",
    "    return weights1, weights2"
   ]
  },
  {
   "cell_type": "markdown",
   "metadata": {},
   "source": [
    "Ok let's create the three network architectures and plot the loss function over the iterations."
   ]
  },
  {
   "cell_type": "code",
   "execution_count": 13,
   "metadata": {},
   "outputs": [
    {
     "name": "stdout",
     "output_type": "stream",
     "text": [
      "loss (hidden nodes: 5, iterations: 2000): 6.15\n",
      "loss (hidden nodes: 10, iterations: 2000): 5.82\n",
      "loss (hidden nodes: 20, iterations: 2000): 87.99\n"
     ]
    },
    {
     "data": {
      "text/plain": [
       "<matplotlib.legend.Legend at 0x21943758ac8>"
      ]
     },
     "execution_count": 13,
     "metadata": {},
     "output_type": "execute_result"
    },
    {
     "data": {
      "image/png": "[encoded data removed]",
      "text/plain": [
       "<matplotlib.figure.Figure at 0x21943404f60>"
      ]
     },
     "metadata": {},
     "output_type": "display_data"
    }
   ],
   "source": [
    "# Run the training for 3 different network architectures: (4-5-3) (4-10-3) (4-20-3)\n",
    "\n",
    "# Plot the loss function over iterations\n",
    "num_hidden_nodes = [5, 10, 20]  \n",
    "loss_plot = {5: [], 10: [], 20: []}  \n",
    "weights1 = {5: None, 10: None, 20: None}  \n",
    "weights2 = {5: None, 10: None, 20: None}  \n",
    "num_iters = 2000\n",
    "\n",
    "plt.figure(figsize=(12,8))  \n",
    "for hidden_nodes in num_hidden_nodes:  \n",
    "    weights1[hidden_nodes], weights2[hidden_nodes] = create_train_model(hidden_nodes, num_iters)\n",
    "    plt.plot(range(num_iters), loss_plot[hidden_nodes], label=\"nn: 4-%d-3\" % hidden_nodes)\n",
    "\n",
    "plt.xlabel('Iteration', fontsize=12)  \n",
    "plt.ylabel('Loss', fontsize=12)  \n",
    "plt.legend(fontsize=12)  "
   ]
  },
  {
   "cell_type": "markdown",
   "metadata": {},
   "source": [
    "We can see that the network with 20 hidden neurons takes more time to reach the minimum, which is due to its higher complexity. The network with 5 hidden neurons gets stuck in a local minimum, and will not give good results.\n",
    "\n",
    "Anyway, for a dataset as simple as Iris, even the small network with 5 hidden neurons should be able to learn a good model. In our case it was just a random event that the model got stuck in a local minimum, and it would not happen very often if we run the code again and again."
   ]
  },
  {
   "cell_type": "markdown",
   "metadata": {},
   "source": [
    "Model evaluation: \n",
    "Finally, let's evaluate our models. We use the learned weights W_1 and W_2 and forward propagate the examples of the test set. The accuracy metric is defined as the percentage of correctly predicted examples."
   ]
  },
  {
   "cell_type": "code",
   "execution_count": 14,
   "metadata": {},
   "outputs": [
    {
     "name": "stdout",
     "output_type": "stream",
     "text": [
      "Network architecture 4-5-3, accuracy: 96.67%\n",
      "Network architecture 4-10-3, accuracy: 96.67%\n",
      "Network architecture 4-20-3, accuracy: 46.67%\n"
     ]
    }
   ],
   "source": [
    "# Evaluate models on the test set\n",
    "X = tf.placeholder(shape=(30, 4), dtype=tf.float64, name='X')  \n",
    "y = tf.placeholder(shape=(30, 3), dtype=tf.float64, name='y')\n",
    "\n",
    "for hidden_nodes in num_hidden_nodes:\n",
    "\n",
    "    # Forward propagation\n",
    "    W1 = tf.Variable(weights1[hidden_nodes])\n",
    "    W2 = tf.Variable(weights2[hidden_nodes])\n",
    "    A1 = tf.sigmoid(tf.matmul(X, W1))\n",
    "    y_est = tf.sigmoid(tf.matmul(A1, W2))\n",
    "\n",
    "    # Calculate the predicted outputs\n",
    "    init = tf.global_variables_initializer()\n",
    "    with tf.Session() as sess:\n",
    "        sess.run(init)\n",
    "        y_est_np = sess.run(y_est, feed_dict={X: Xtest, y: ytest})\n",
    "\n",
    "    # Calculate the prediction accuracy\n",
    "    correct = [estimate.argmax(axis=0) == target.argmax(axis=0) \n",
    "               for estimate, target in zip(y_est_np, ytest.as_matrix())]\n",
    "    accuracy = 100 * sum(correct) / len(correct)\n",
    "    print('Network architecture 4-%d-3, accuracy: %.2f%%' % (hidden_nodes, accuracy))"
   ]
  }
 ],
 "metadata": {
  "kernelspec": {
   "display_name": "Python 3",
   "language": "python",
   "name": "python3"
  },
  "language_info": {
   "codemirror_mode": {
    "name": "ipython",
    "version": 3
   },
   "file_extension": ".py",
   "mimetype": "text/x-python",
   "name": "python",
   "nbconvert_exporter": "python",
   "pygments_lexer": "ipython3",
   "version": "3.6.3"
  }
 },
 "nbformat": 4,
 "nbformat_minor": 2
}
